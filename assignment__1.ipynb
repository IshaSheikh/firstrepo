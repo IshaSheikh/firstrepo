{
  "nbformat": 4,
  "nbformat_minor": 0,
  "metadata": {
    "colab": {
      "provenance": [],
      "collapsed_sections": [],
      "authorship_tag": "ABX9TyPNh9l+5Dr+yqgP00jjI5o5",
      "include_colab_link": true
    },
    "kernelspec": {
      "name": "python3",
      "display_name": "Python 3"
    },
    "language_info": {
      "name": "python"
    }
  },
  "cells": [
    {
      "cell_type": "markdown",
      "metadata": {
        "id": "view-in-github",
        "colab_type": "text"
      },
      "source": [
        "<a href=\"https://colab.research.google.com/github/IshaSheikh/firstrepo/blob/main/assignment__1.ipynb\" target=\"_parent\"><img src=\"https://colab.research.google.com/assets/colab-badge.svg\" alt=\"Open In Colab\"/></a>"
      ]
    },
    {
      "cell_type": "markdown",
      "source": [
        "#### Question 1 :\n",
        "\n",
        "##### Define a function, which takes in two strings A and B. Reverses the first string A, adds it to B, and returns the final string.\n",
        "\n",
        "\n"
      ],
      "metadata": {
        "id": "tPKHfYEkewY0"
      }
    },
    {
      "cell_type": "code",
      "source": [
        "def function(a:str,b:str):\n",
        "  a=a[::-1]\n",
        "  return b+' '+a;\n",
        "print('enter your first string')\n",
        "s1=str(input())\n",
        "print('enter your second string')\n",
        "s2=str(input())\n",
        "print(function(s1,s2))"
      ],
      "metadata": {
        "colab": {
          "base_uri": "https://localhost:8080/"
        },
        "id": "tF8S-wGJe5Pp",
        "outputId": "422054df-f473-4229-ee81-6ed609570f94"
      },
      "execution_count": 1,
      "outputs": [
        {
          "output_type": "stream",
          "name": "stdout",
          "text": [
            "enter your first string\n",
            "hello world\n",
            "enter your second string\n",
            "my boi\n",
            "my boi dlrow olleh\n"
          ]
        }
      ]
    },
    {
      "cell_type": "markdown",
      "source": [
        "#### Question 2 : \n",
        "##### Given a list having Names, work_hours, and gender, Write a function to print name of the female worker that worked the most hours. Also how much do should she be paid if the pay is $ 20 per hour.\n",
        "\n",
        "##### work_hours = [('Abby',100 , 'F'),('Billy',400, 'M'),('Cassie',800,'F'), ('Maggi',600,'F'),('Alex',500,'M'),('Raj',225,'M'),('Penny',920,'F'),('Ben',300,'M')]\n",
        "\n",
        "##### Answer : the female worker that worked the most hours is Penny and she should be paid 18400"
      ],
      "metadata": {
        "id": "m4fae3aUfH1A"
      }
    },
    {
      "cell_type": "code",
      "source": [
        "work_hours = [('Abby',100 , 'F'),('Billy',400, 'M'),('Cassie',800,'F'), ('Maggi',600,'F'),('Alex',500,'M'),('Raj',225,'M'),('Penny',920,'F'),('Ben',300,'M')]\n",
        "k=0\n",
        "name=''\n",
        "for i in work_hours:\n",
        "  if i[2] =='F' and i[1]>k:\n",
        "    k=i[1]\n",
        "    name=str(i[0])\n",
        "print('the female worker that the most hours is '+name+' an should be paid '+str(k*20))"
      ],
      "metadata": {
        "colab": {
          "base_uri": "https://localhost:8080/"
        },
        "id": "fT4GVYbkfLC7",
        "outputId": "da0e7751-2bcf-4b5f-efb8-2dfd1f4cb870"
      },
      "execution_count": 2,
      "outputs": [
        {
          "output_type": "stream",
          "name": "stdout",
          "text": [
            "the female worker that the most hours is Penny an should be paid 18400\n"
          ]
        }
      ]
    },
    {
      "cell_type": "markdown",
      "source": [
        "#### Question 3 : \n",
        "\n",
        "##### a)Create a 5x5 matrix of the following form, \n",
        "\n",
        "##### [[1,1]\n",
        "#####  [2,2]]\n",
        "\n",
        "#####  i.e. each row is increasing and has repetive elements.\n",
        "\n",
        "######  Hint : you can use hstack, vstack  etc.\n",
        "\n",
        "##### b) find dot product of the matrix with any matrix. (Figure out the size/ shape of the matrix)"
      ],
      "metadata": {
        "id": "kTCwWvxpfOe9"
      }
    },
    {
      "cell_type": "code",
      "source": [
        "import numpy as np\n",
        "# 3.a part\n",
        "mat1=np.arange(1,6).reshape(5,1)\n",
        "mat2=mat1\n",
        "\n",
        "for i in range(4):\n",
        "  mat1=np.hstack((mat1,mat2))\n",
        "  i+=1\n",
        "print('matrix 1')\n",
        "print(mat1)\n",
        "print(\"\")\n",
        "# 3.b part\n",
        "mat3=np.arange(5,126,5).reshape(5,5)\n",
        "print('matrix 2')\n",
        "print(mat3)\n",
        "print(\"\")\n",
        "\n",
        "# dot product of two matrix\n",
        "print('the result after dot product:')\n",
        "mat4=np.dot(mat1,mat3)\n",
        "print(mat4)"
      ],
      "metadata": {
        "colab": {
          "base_uri": "https://localhost:8080/"
        },
        "id": "Gkc7WFkwfTXt",
        "outputId": "84176273-925e-4f61-f2bd-3b87986d3735"
      },
      "execution_count": 3,
      "outputs": [
        {
          "output_type": "stream",
          "name": "stdout",
          "text": [
            "matrix 1\n",
            "[[1 1 1 1 1]\n",
            " [2 2 2 2 2]\n",
            " [3 3 3 3 3]\n",
            " [4 4 4 4 4]\n",
            " [5 5 5 5 5]]\n",
            "\n",
            "matrix 2\n",
            "[[  5  10  15  20  25]\n",
            " [ 30  35  40  45  50]\n",
            " [ 55  60  65  70  75]\n",
            " [ 80  85  90  95 100]\n",
            " [105 110 115 120 125]]\n",
            "\n",
            "the result after dot product:\n",
            "[[ 275  300  325  350  375]\n",
            " [ 550  600  650  700  750]\n",
            " [ 825  900  975 1050 1125]\n",
            " [1100 1200 1300 1400 1500]\n",
            " [1375 1500 1625 1750 1875]]\n"
          ]
        }
      ]
    },
    {
      "cell_type": "markdown",
      "source": [
        "## Question 3 : Upload an image to your google drive, Use plt.imread to read image from the google\n",
        "## drive and then print that image using plt.imshow\n",
        "\n",
        "\n",
        "## Answer 3 : \n",
        "\n",
        "## 1) make sure drive is loaded and then upload a test image onto your drive\n"
      ],
      "metadata": {
        "id": "bykZEij_fV0D"
      }
    },
    {
      "cell_type": "code",
      "source": [
        "\n",
        "from google.colab import drive \n",
        "drive.mount('/content/gdrive')\n"
      ],
      "metadata": {
        "colab": {
          "base_uri": "https://localhost:8080/"
        },
        "id": "BfHIosLLfeEL",
        "outputId": "efdf0019-90f5-4580-a851-dab731943d55"
      },
      "execution_count": 8,
      "outputs": [
        {
          "output_type": "stream",
          "name": "stdout",
          "text": [
            "Drive already mounted at /content/gdrive; to attempt to forcibly remount, call drive.mount(\"/content/gdrive\", force_remount=True).\n"
          ]
        }
      ]
    },
    {
      "cell_type": "code",
      "source": [
        "from matplotlib import pyplot as plt\n",
        "img=plt.imread('/content/gdrive/MyDrive/umbrella/final/Isometric.PNG')\n",
        "plt.imshow(img)\n"
      ],
      "metadata": {
        "colab": {
          "base_uri": "https://localhost:8080/",
          "height": 287
        },
        "id": "qVnjYfg0ffgJ",
        "outputId": "3141b609-fa86-4c5c-f9a0-cb15ee76c741"
      },
      "execution_count": 6,
      "outputs": [
        {
          "output_type": "execute_result",
          "data": {
            "text/plain": [
              "<matplotlib.image.AxesImage at 0x7fbd421c4290>"
            ]
          },
          "metadata": {},
          "execution_count": 6
        },
        {
          "output_type": "display_data",
          "data": {
            "text/plain": [
              "<Figure size 432x288 with 1 Axes>"
            ],
            "image/png": "[encoded data removed]"
          },
          "metadata": {
            "needs_background": "light"
          }
        }
      ]
    }
  ]
}