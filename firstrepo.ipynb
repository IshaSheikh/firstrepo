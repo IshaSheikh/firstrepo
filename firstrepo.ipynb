{
  "nbformat": 4,
  "nbformat_minor": 0,
  "metadata": {
    "colab": {
      "name": "firstrepo.ipynb",
      "provenance": [],
      "authorship_tag": "ABX9TyOYoFKchH6RmeIh8Sz+yOLk",
      "include_colab_link": true
    },
    "kernelspec": {
      "name": "python3",
      "display_name": "Python 3"
    },
    "language_info": {
      "name": "python"
    }
  },
  "cells": [
    {
      "cell_type": "markdown",
      "metadata": {
        "id": "view-in-github",
        "colab_type": "text"
      },
      "source": [
        "<a href=\"https://colab.research.google.com/github/IshaSheikh/firstrepo/blob/main/firstrepo.ipynb\" target=\"_parent\"><img src=\"https://colab.research.google.com/assets/colab-badge.svg\" alt=\"Open In Colab\"/></a>"
      ]
    },
    {
      "cell_type": "code",
      "execution_count": 2,
      "metadata": {
        "id": "rHspq7IBnI0s"
      },
      "outputs": [],
      "source": [
        "def write(name):\n",
        "  print(\"My name is \"+name+\".\")\n",
        "  "
      ]
    },
    {
      "cell_type": "code",
      "source": [
        "write(\"Sohail\")"
      ],
      "metadata": {
        "colab": {
          "base_uri": "https://localhost:8080/"
        },
        "id": "4UMtvaaxoJ-z",
        "outputId": "c2ddbf17-7998-4a69-d2c0-befa044e0a06"
      },
      "execution_count": 4,
      "outputs": [
        {
          "output_type": "stream",
          "name": "stdout",
          "text": [
            "My name is Sohail.\n"
          ]
        }
      ]
    },
    {
      "cell_type": "code",
      "source": [
        "def no_letter(name):\n",
        "    i=len(name)\n",
        "    print(i)"
      ],
      "metadata": {
        "id": "fFgToduRoX0J"
      },
      "execution_count": 8,
      "outputs": []
    },
    {
      "cell_type": "code",
      "source": [
        "no_letter(\"Sohail\")"
      ],
      "metadata": {
        "colab": {
          "base_uri": "https://localhost:8080/"
        },
        "id": "u6E2sQgrowJV",
        "outputId": "c5cea95c-9578-4f9d-b7c7-1390f64e6d43"
      },
      "execution_count": 9,
      "outputs": [
        {
          "output_type": "stream",
          "name": "stdout",
          "text": [
            "6\n"
          ]
        }
      ]
    }
  ]
}